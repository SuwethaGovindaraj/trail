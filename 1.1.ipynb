{
 "cells": [
  {
   "cell_type": "code",
   "execution_count": null,
   "id": "96e697e6",
   "metadata": {},
   "outputs": [],
   "source": [
    "# 📦 Importing Libraries\n",
    "import pandas as pd\n",
    "import numpy as np\n",
    "import matplotlib.pyplot as plt\n",
    "import seaborn as sns\n",
    "\n",
    "# Plot settings\n",
    "sns.set(style='whitegrid')"
   ]
  },
  {
   "cell_type": "code",
   "execution_count": null,
   "id": "54d77149",
   "metadata": {},
   "outputs": [],
   "source": [
    "# 📂 Load the dataset\n",
    "# Replace with your actual file path\n",
    "df = pd.read_csv('your_file.csv')\n",
    "df.head()"
   ]
  },
  {
   "cell_type": "code",
   "execution_count": null,
   "id": "c76d734d",
   "metadata": {},
   "outputs": [],
   "source": [
    "# 🛠 Feature Engineering\n",
    "df['mr_rate'] = df['total_records_received'] / df['total_records_requested'].replace({0: pd.NA})\n",
    "df['low_mr_rate'] = df['mr_rate'] < 0.4\n",
    "df['cancellation_rate'] = df['cancelled_claims'] / df['total_records_requested'].replace({0: pd.NA})\n",
    "df['received_not_cancelled'] = df['received_not_cancelled'].astype(bool)"
   ]
  },
  {
   "cell_type": "code",
   "execution_count": null,
   "id": "51641ee9",
   "metadata": {},
   "outputs": [],
   "source": [
    "# 📊 Provider-Level Summary\n",
    "provider_summary = df.groupby('providertaxid').agg({\n",
    "    'total_records_requested': 'sum',\n",
    "    'total_records_received': 'sum',\n",
    "    'cancelled_claims': 'sum',\n",
    "    'received_not_cancelled': 'sum',\n",
    "    'add_doc_request_flag': 'sum',\n",
    "    'add_doc_received_flag': 'sum',\n",
    "    'number_of_findings': 'sum',\n",
    "    'no_findings': 'sum'\n",
    "})\n",
    "\n",
    "provider_summary['mr_rate'] = provider_summary['total_records_received'] / provider_summary['total_records_requested']\n",
    "provider_summary['cancellation_rate'] = provider_summary['cancelled_claims'] / provider_summary['total_records_requested']\n",
    "provider_summary.head()"
   ]
  },
  {
   "cell_type": "code",
   "execution_count": null,
   "id": "d4b3ba6d",
   "metadata": {},
   "outputs": [],
   "source": [
    "# 🧮 MR Rate Tiers\n",
    "df['mr_rate_bin'] = pd.cut(df['mr_rate'], bins=[0, 0.4, 0.7, 1.0], labels=['Low', 'Medium', 'High'])\n",
    "pd.crosstab(df['mr_rate_bin'], df['received_not_cancelled'])"
   ]
  },
  {
   "cell_type": "code",
   "execution_count": null,
   "id": "0aad8cba",
   "metadata": {},
   "outputs": [],
   "source": [
    "# 📉 Distribution of MR Rate\n",
    "sns.histplot(df['mr_rate'].dropna(), bins=30)\n",
    "plt.title('Distribution of MR Rate')\n",
    "plt.show()"
   ]
  },
  {
   "cell_type": "code",
   "execution_count": null,
   "id": "6c971567",
   "metadata": {},
   "outputs": [],
   "source": [
    "# 📊 MR Rate vs Cancellation Rate\n",
    "sns.scatterplot(x='mr_rate', y='cancellation_rate', data=provider_summary.reset_index())\n",
    "plt.title('MR Rate vs Cancellation Rate by Provider')\n",
    "plt.show()"
   ]
  },
  {
   "cell_type": "code",
   "execution_count": null,
   "id": "11dc84f1",
   "metadata": {},
   "outputs": [],
   "source": [
    "# 📋 Category-Level Summary\n",
    "cat_summary = df.groupby('sel_category').agg({\n",
    "    'total_records_requested': 'sum',\n",
    "    'total_records_received': 'sum',\n",
    "    'cancelled_claims': 'sum',\n",
    "    'number_of_findings': 'sum',\n",
    "    'no_findings': 'sum'\n",
    "})\n",
    "cat_summary['mr_rate'] = cat_summary['total_records_received'] / cat_summary['total_records_requested']\n",
    "cat_summary['cancellation_rate'] = cat_summary['cancelled_claims'] / cat_summary['total_records_requested']\n",
    "cat_summary.sort_values(by='mr_rate')"
   ]
  },
  {
   "cell_type": "code",
   "execution_count": null,
   "id": "a72ba367",
   "metadata": {},
   "outputs": [],
   "source": [
    "# 📌 Pivot Table of MR Rate by Provider and Category\n",
    "pivot = pd.pivot_table(df, index='providertaxid', columns='sel_category',\n",
    "                       values='mr_rate', aggfunc='mean')\n",
    "pivot.head()"
   ]
  },
  {
   "cell_type": "code",
   "execution_count": null,
   "id": "eb1c5c17",
   "metadata": {},
   "outputs": [],
   "source": [
    "# 🔍 Providers with Low MR Rate by Category\n",
    "low_rate_threshold = 0.4  # Adjustable threshold\n",
    "low_mr_mask = df['mr_rate'] < low_rate_threshold\n",
    "\n",
    "low_mr_ct = df[low_mr_mask].groupby(['providertaxid', 'sel_category']).agg({\n",
    "    'total_records_requested': 'sum',\n",
    "    'total_records_received': 'sum',\n",
    "    'cancelled_claims': 'sum',\n",
    "    'number_of_findings': 'sum',\n",
    "    'no_findings': 'sum'\n",
    "}).reset_index()\n",
    "low_mr_ct.sort_values(by=['providertaxid', 'sel_category'], inplace=True)\n",
    "low_mr_ct"
   ]
  }
 ],
 "metadata": {
  "language_info": {
   "name": "python"
  }
 },
 "nbformat": 4,
 "nbformat_minor": 5
}
